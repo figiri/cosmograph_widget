{
 "cells": [
  {
   "cell_type": "code",
   "execution_count": 1,
   "id": "dadde858-e844-475a-b967-49d5b4b63062",
   "metadata": {},
   "outputs": [],
   "source": [
    "from cosmograph_widget import Cosmograph\n",
    "import numpy as np\n",
    "import pandas as pd"
   ]
  },
  {
   "cell_type": "code",
   "execution_count": 2,
   "id": "19b0d3e7-14df-42c1-a36c-0bee0fd3d7f2",
   "metadata": {},
   "outputs": [
    {
     "data": {
      "text/html": [
       "<div>\n",
       "<style scoped>\n",
       "    .dataframe tbody tr th:only-of-type {\n",
       "        vertical-align: middle;\n",
       "    }\n",
       "\n",
       "    .dataframe tbody tr th {\n",
       "        vertical-align: top;\n",
       "    }\n",
       "\n",
       "    .dataframe thead th {\n",
       "        text-align: right;\n",
       "    }\n",
       "</style>\n",
       "<table border=\"1\" class=\"dataframe\">\n",
       "  <thead>\n",
       "    <tr style=\"text-align: right;\">\n",
       "      <th></th>\n",
       "      <th>id</th>\n",
       "      <th>cluster</th>\n",
       "    </tr>\n",
       "  </thead>\n",
       "  <tbody>\n",
       "    <tr>\n",
       "      <th>0</th>\n",
       "      <td>0</td>\n",
       "      <td>Cluster 0</td>\n",
       "    </tr>\n",
       "    <tr>\n",
       "      <th>1</th>\n",
       "      <td>1</td>\n",
       "      <td>Cluster 1</td>\n",
       "    </tr>\n",
       "  </tbody>\n",
       "</table>\n",
       "</div>"
      ],
      "text/plain": [
       "   id    cluster\n",
       "0   0  Cluster 0\n",
       "1   1  Cluster 1"
      ]
     },
     "execution_count": 2,
     "metadata": {},
     "output_type": "execute_result"
    }
   ],
   "source": [
    "clusters = np.array([i % 10 for i in range(10000)])\n",
    "points = pd.DataFrame({\n",
    "    'id': range(10000),\n",
    "    'cluster': np.array([f\"Cluster {x}\" for x in clusters])\n",
    "})\n",
    "points.head(2)"
   ]
  },
  {
   "cell_type": "code",
   "execution_count": 3,
   "id": "9008a3d7-2db8-40d0-9cf7-53c34477e776",
   "metadata": {},
   "outputs": [
    {
     "data": {
      "application/vnd.jupyter.widget-view+json": {
       "model_id": "82b4ae9243384c1096d8e72cba23c236",
       "version_major": 2,
       "version_minor": 1
      },
      "text/plain": [
       "Cosmograph(background_color=None, disable_simulation=False, focused_point_ring_color=None, hovered_point_ring_…"
      ]
     },
     "execution_count": 3,
     "metadata": {},
     "output_type": "execute_result"
    }
   ],
   "source": [
    "cosmo = Cosmograph(points=points,\n",
    "   point_id_by='id',\n",
    "   point_cluster_by='cluster',\n",
    "   point_color_by='cluster',\n",
    "   disable_simulation=False\n",
    ")\n",
    "cosmo"
   ]
  },
  {
   "cell_type": "code",
   "execution_count": 4,
   "id": "afffed40-1723-497e-b8a6-954b725c6535",
   "metadata": {},
   "outputs": [],
   "source": [
    "cosmo.fit_view()"
   ]
  },
  {
   "cell_type": "code",
   "execution_count": null,
   "id": "4a3262b9-617d-4c08-b026-e2f421d5c425",
   "metadata": {},
   "outputs": [],
   "source": []
  }
 ],
 "metadata": {
  "kernelspec": {
   "display_name": "Python 3 (ipykernel)",
   "language": "python",
   "name": "python3"
  },
  "language_info": {
   "codemirror_mode": {
    "name": "ipython",
    "version": 3
   },
   "file_extension": ".py",
   "mimetype": "text/x-python",
   "name": "python",
   "nbconvert_exporter": "python",
   "pygments_lexer": "ipython3",
   "version": "3.9.6"
  }
 },
 "nbformat": 4,
 "nbformat_minor": 5
}
