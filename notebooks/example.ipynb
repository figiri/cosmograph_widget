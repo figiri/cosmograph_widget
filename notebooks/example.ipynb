{
 "cells": [
  {
   "cell_type": "code",
   "execution_count": 1,
   "id": "be7196a3-df0f-4473-bdaf-7c319ccecf9d",
   "metadata": {},
   "outputs": [
    {
     "name": "stdout",
     "output_type": "stream",
     "text": [
      "env: ANYWIDGET_HMR=1\n"
     ]
    }
   ],
   "source": [
    "%load_ext autoreload\n",
    "%autoreload 2\n",
    "%env ANYWIDGET_HMR=1"
   ]
  },
  {
   "cell_type": "code",
   "execution_count": 2,
   "id": "fcc1f7a4",
   "metadata": {},
   "outputs": [],
   "source": [
    "from cosmograph_widget import Cosmograph\n",
    "import pandas as pd\n",
    "import ipywidgets as widgets\n",
    "from IPython.display import display\n",
    "# dir(Cosmograph)"
   ]
  },
  {
   "cell_type": "code",
   "execution_count": 3,
   "id": "655741f7",
   "metadata": {},
   "outputs": [
    {
     "data": {
      "text/html": [
       "<div>\n",
       "<style scoped>\n",
       "    .dataframe tbody tr th:only-of-type {\n",
       "        vertical-align: middle;\n",
       "    }\n",
       "\n",
       "    .dataframe tbody tr th {\n",
       "        vertical-align: top;\n",
       "    }\n",
       "\n",
       "    .dataframe thead th {\n",
       "        text-align: right;\n",
       "    }\n",
       "</style>\n",
       "<table border=\"1\" class=\"dataframe\">\n",
       "  <thead>\n",
       "    <tr style=\"text-align: right;\">\n",
       "      <th></th>\n",
       "      <th>id</th>\n",
       "      <th>index</th>\n",
       "      <th>value</th>\n",
       "      <th>value2</th>\n",
       "      <th>date</th>\n",
       "      <th>time</th>\n",
       "      <th>color</th>\n",
       "      <th>label</th>\n",
       "    </tr>\n",
       "  </thead>\n",
       "  <tbody>\n",
       "    <tr>\n",
       "      <th>0</th>\n",
       "      <td>0</td>\n",
       "      <td>0</td>\n",
       "      <td>-5</td>\n",
       "      <td>116</td>\n",
       "      <td>2022-11-25 03:25:04.851000+00:00</td>\n",
       "      <td>1970-01-01T01:20:59.956Z</td>\n",
       "      <td>#bab0ab</td>\n",
       "      <td>offence</td>\n",
       "    </tr>\n",
       "  </tbody>\n",
       "</table>\n",
       "</div>"
      ],
      "text/plain": [
       "   id  index  value  value2                             date  \\\n",
       "0   0      0     -5     116 2022-11-25 03:25:04.851000+00:00   \n",
       "\n",
       "                       time    color    label  \n",
       "0  1970-01-01T01:20:59.956Z  #bab0ab  offence  "
      ]
     },
     "execution_count": 3,
     "metadata": {},
     "output_type": "execute_result"
    }
   ],
   "source": [
    "points = pd.read_json('https://gist.githubusercontent.com/Stukova/d2a3bb22c90680b6beaf8a52c3470296/raw/a80fb63f4f4f0135f827c23aff43183de61a153d/points.json')\n",
    "points.head(1)"
   ]
  },
  {
   "cell_type": "code",
   "execution_count": 4,
   "id": "d00a4160-4b94-430c-a433-688ea6d7b76e",
   "metadata": {},
   "outputs": [
    {
     "data": {
      "text/html": [
       "<div>\n",
       "<style scoped>\n",
       "    .dataframe tbody tr th:only-of-type {\n",
       "        vertical-align: middle;\n",
       "    }\n",
       "\n",
       "    .dataframe tbody tr th {\n",
       "        vertical-align: top;\n",
       "    }\n",
       "\n",
       "    .dataframe thead th {\n",
       "        text-align: right;\n",
       "    }\n",
       "</style>\n",
       "<table border=\"1\" class=\"dataframe\">\n",
       "  <thead>\n",
       "    <tr style=\"text-align: right;\">\n",
       "      <th></th>\n",
       "      <th>source</th>\n",
       "      <th>sourceidx</th>\n",
       "      <th>date</th>\n",
       "      <th>time</th>\n",
       "      <th>color</th>\n",
       "      <th>target</th>\n",
       "      <th>targetidx</th>\n",
       "      <th>value</th>\n",
       "    </tr>\n",
       "  </thead>\n",
       "  <tbody>\n",
       "    <tr>\n",
       "      <th>0</th>\n",
       "      <td>0</td>\n",
       "      <td>0</td>\n",
       "      <td>2012-02-08 11:17:27.900000+00:00</td>\n",
       "      <td>1970-01-01T01:06:54.149Z</td>\n",
       "      <td>#4e79a7</td>\n",
       "      <td>1</td>\n",
       "      <td>1</td>\n",
       "      <td>1</td>\n",
       "    </tr>\n",
       "  </tbody>\n",
       "</table>\n",
       "</div>"
      ],
      "text/plain": [
       "   source  sourceidx                             date  \\\n",
       "0       0          0 2012-02-08 11:17:27.900000+00:00   \n",
       "\n",
       "                       time    color  target  targetidx  value  \n",
       "0  1970-01-01T01:06:54.149Z  #4e79a7       1          1      1  "
      ]
     },
     "execution_count": 4,
     "metadata": {},
     "output_type": "execute_result"
    }
   ],
   "source": [
    "links = pd.read_json('https://gist.githubusercontent.com/Stukova/d2a3bb22c90680b6beaf8a52c3470296/raw/a80fb63f4f4f0135f827c23aff43183de61a153d/links.json')\n",
    "links.head(1)"
   ]
  },
  {
   "cell_type": "code",
   "execution_count": 5,
   "id": "b5e3787d-2461-4363-9bd7-009e56f1b69f",
   "metadata": {},
   "outputs": [
    {
     "data": {
      "application/vnd.jupyter.widget-view+json": {
       "model_id": "40c6f5bf47f44d22beab9f9947acb1b0",
       "version_major": 2,
       "version_minor": 0
      },
      "text/plain": [
       "FloatSlider(value=0.25, description='gravity:', max=0.5, step=0.01)"
      ]
     },
     "metadata": {},
     "output_type": "display_data"
    },
    {
     "data": {
      "application/vnd.jupyter.widget-view+json": {
       "model_id": "fd1b68165fe8477da7f0da26417acca7",
       "version_major": 2,
       "version_minor": 0
      },
      "text/plain": [
       "FloatSlider(value=1.0, description='repulsion:', max=2.0, step=0.01)"
      ]
     },
     "metadata": {},
     "output_type": "display_data"
    },
    {
     "data": {
      "application/vnd.jupyter.widget-view+json": {
       "model_id": "8330d03ef59b48c2937aa55c89333d4e",
       "version_major": 2,
       "version_minor": 0
      },
      "text/plain": [
       "FloatSlider(value=1.0, description='link strength:', max=2.0, step=0.01)"
      ]
     },
     "metadata": {},
     "output_type": "display_data"
    },
    {
     "data": {
      "application/vnd.jupyter.widget-view+json": {
       "model_id": "79a8d5b3780048db912049accc45f3e5",
       "version_major": 2,
       "version_minor": 0
      },
      "text/plain": [
       "IntSlider(value=10, description='min link dist:', max=20, min=1, step=0)"
      ]
     },
     "metadata": {},
     "output_type": "display_data"
    },
    {
     "data": {
      "application/vnd.jupyter.widget-view+json": {
       "model_id": "63ec0ccb27ba4d339d7c35acba8d95ba",
       "version_major": 2,
       "version_minor": 0
      },
      "text/plain": [
       "Button(description='Accelerate', style=ButtonStyle())"
      ]
     },
     "metadata": {},
     "output_type": "display_data"
    },
    {
     "data": {
      "application/vnd.jupyter.widget-view+json": {
       "model_id": "96e08c93b74f41a1a82de94d5887114d",
       "version_major": 2,
       "version_minor": 1
      },
      "text/plain": [
       "Cosmograph(background_color=None, default_link_color=None, default_point_color=None, focused_point_ring_color=…"
      ]
     },
     "metadata": {},
     "output_type": "display_data"
    }
   ],
   "source": [
    "cosmo = Cosmograph(points=points, links=links,\n",
    "   point_id='id',\n",
    "   point_index='index',\n",
    "   # point_label='label',\n",
    "   link_source='source',\n",
    "   link_source_index='sourceidx',\n",
    "   link_target='target',\n",
    "   link_target_index='targetidx',\n",
    ")\n",
    "\n",
    "gravitySlider = widgets.FloatSlider(value=0.25, min=0, max=0.5, step=0.01, description='gravity:')\n",
    "repulsionSlider = widgets.FloatSlider(value=1, min=0, max=2, step=0.01, description='repulsion:')\n",
    "linkStrengthSlider = widgets.FloatSlider(value=1, min=0, max=2, step=0.01, description='link strength:')\n",
    "minimumLinkDistance = widgets.IntSlider(value=10, min=1, max=20, step=0.01, description='min link dist:')\n",
    "\n",
    "widgets.jslink((gravitySlider, 'value'), (cosmo, 'simulation_gravity'))\n",
    "widgets.jslink((repulsionSlider, 'value'), (cosmo, 'simulation_repulsion'))\n",
    "widgets.jslink((linkStrengthSlider, 'value'), (cosmo, 'simulation_link_spring'))\n",
    "widgets.jslink((minimumLinkDistance, 'value'), (cosmo, 'simulation_link_distance'))\n",
    "\n",
    "accelerateButton = widgets.Button(description='Accelerate')\n",
    "accelerateButton.on_click(lambda x: cosmo.start(1))\n",
    "\n",
    "display(gravitySlider, repulsionSlider, linkStrengthSlider, minimumLinkDistance, accelerateButton, cosmo)"
   ]
  },
  {
   "cell_type": "markdown",
   "id": "e2f83fb6-5170-4554-91b8-3eb566b5be9f",
   "metadata": {},
   "source": [
    "#### Legends"
   ]
  },
  {
   "cell_type": "markdown",
   "id": "56aae705-eb9d-41e2-83ab-605620e92af5",
   "metadata": {},
   "source": [
    "For each property of point and link styling and sizing such as `point_size`, `link_width`, `point_color`, and `link_color`, there is a legend:"
   ]
  },
  {
   "cell_type": "code",
   "execution_count": 6,
   "id": "c4e4313b-379f-4f95-8bd8-9e80a7ff5fcc",
   "metadata": {},
   "outputs": [],
   "source": [
    "cosmo.point_size = 'value'\n",
    "cosmo.link_width = 'value'\n",
    "cosmo.point_color = 'value'\n",
    "cosmo.link_color = 'value'"
   ]
  },
  {
   "cell_type": "markdown",
   "id": "54e70e95-a236-4a21-ae3f-153f87b92f11",
   "metadata": {},
   "source": [
    "The legend can be disabled, so it does not appear on the graph:"
   ]
  },
  {
   "cell_type": "code",
   "execution_count": 7,
   "id": "2c424c59-1a2c-4162-92bb-6854c286f53c",
   "metadata": {},
   "outputs": [],
   "source": [
    "# cosmo.disable_point_size_legend = True\n",
    "cosmo.disable_link_width_legend = True\n",
    "cosmo.disable_point_color_legend = True\n",
    "cosmo.disable_link_color_legend = True"
   ]
  },
  {
   "cell_type": "markdown",
   "id": "341be792-0678-457c-9a70-b9db7c0da865",
   "metadata": {},
   "source": [
    "#### Selecting Points"
   ]
  },
  {
   "cell_type": "markdown",
   "id": "1073664b-f1ed-43d5-82e4-f813de7b9322",
   "metadata": {},
   "source": [
    "Click on the maximum value in the legend to select the largest points. This will write an array of the selected points into the `selected_point_indices` property."
   ]
  },
  {
   "cell_type": "code",
   "execution_count": 8,
   "id": "78ba1d37-e5aa-44ea-9c82-f8251b3ead81",
   "metadata": {},
   "outputs": [
    {
     "data": {
      "text/plain": [
       "74"
      ]
     },
     "execution_count": 8,
     "metadata": {},
     "output_type": "execute_result"
    }
   ],
   "source": [
    "len(cosmo.selected_point_indices)"
   ]
  },
  {
   "cell_type": "markdown",
   "id": "6aedada4-3a43-48f6-acc4-6781ab8773ec",
   "metadata": {},
   "source": [
    "From the current dataframe, you can create a dataframe of the selected points and render the graph with only the selected points:"
   ]
  },
  {
   "cell_type": "code",
   "execution_count": 9,
   "id": "c7c36a60-96c3-4f37-8af7-f51dbe7d6ba6",
   "metadata": {},
   "outputs": [
    {
     "name": "stdout",
     "output_type": "stream",
     "text": [
      "74 3\n"
     ]
    }
   ],
   "source": [
    "selected_points = points.loc[cosmo.selected_point_indices]\n",
    "# reindexing is necessary because the Cosmograph needs indices strictly in order from 0 to 1\n",
    "pont_index_map = {index: i for i, index in enumerate(selected_points.index)}\n",
    "selected_points['index_mapped'] = selected_points['index'].map(pont_index_map)\n",
    "\n",
    "selected_links = links.loc[links.sourceidx.isin(cosmo.selected_point_indices) & links.targetidx.isin(cosmo.selected_point_indices)].copy()\n",
    "selected_links['sourceidx_mapped'] = selected_links['sourceidx'].map(pont_index_map)\n",
    "selected_links['targetidx_mapped'] = selected_links['targetidx'].map(pont_index_map)\n",
    "\n",
    "print(len(selected_points), len(selected_links))"
   ]
  },
  {
   "cell_type": "code",
   "execution_count": 10,
   "id": "1a337d67-e4fe-4180-9717-cb7bf8762144",
   "metadata": {},
   "outputs": [
    {
     "data": {
      "application/vnd.jupyter.widget-view+json": {
       "model_id": "b8195d1684e049e99c7ac56c95216a51",
       "version_major": 2,
       "version_minor": 1
      },
      "text/plain": [
       "Cosmograph(background_color=None, default_link_color=None, default_point_color=None, focused_point_ring_color=…"
      ]
     },
     "execution_count": 10,
     "metadata": {},
     "output_type": "execute_result"
    }
   ],
   "source": [
    "cosmo_selected = Cosmograph(points=selected_points, links=selected_links,\n",
    "   point_id='id',\n",
    "   point_index='index_mapped',\n",
    "   point_color='color',\n",
    "\n",
    "   link_source='source',\n",
    "   link_source_index='sourceidx_mapped',\n",
    "   link_target='target',\n",
    "   link_target_index='targetidx_mapped',\n",
    "   link_color='color'\n",
    ")\n",
    "cosmo_selected"
   ]
  },
  {
   "cell_type": "code",
   "execution_count": 11,
   "id": "99a205c1-d810-47f6-8372-ef193e725f0e",
   "metadata": {},
   "outputs": [],
   "source": [
    "cosmo_selected.fit_view()"
   ]
  },
  {
   "cell_type": "code",
   "execution_count": 12,
   "id": "f8e0a475-11fc-488d-93ed-b269de5ebbeb",
   "metadata": {},
   "outputs": [],
   "source": [
    "cosmo_selected.select_points_by_indices(selected_points.query(\"color == '#af7aa1'\").index_mapped.tolist())"
   ]
  },
  {
   "cell_type": "code",
   "execution_count": 13,
   "id": "e0c155fb",
   "metadata": {},
   "outputs": [
    {
     "data": {
      "text/plain": [
       "[1, 2, 17, 24, 38, 40, 51, 64, 66]"
      ]
     },
     "execution_count": 13,
     "metadata": {},
     "output_type": "execute_result"
    }
   ],
   "source": [
    "cosmo_selected.selected_point_indices"
   ]
  },
  {
   "cell_type": "code",
   "execution_count": 14,
   "id": "c7d4f4ca-951d-49f1-892d-2728628b42f7",
   "metadata": {},
   "outputs": [],
   "source": [
    "cosmo_selected.fit_view_by_indices(cosmo_selected.selected_point_indices, 2000)"
   ]
  },
  {
   "cell_type": "code",
   "execution_count": 15,
   "id": "8d70a986-1156-4e1a-8bce-d5e9af8949c1",
   "metadata": {},
   "outputs": [],
   "source": [
    "cosmo_selected.focus_point(40)"
   ]
  },
  {
   "cell_type": "code",
   "execution_count": 16,
   "id": "8eb11edf-c5c7-45c8-a475-1857e28bdadd",
   "metadata": {},
   "outputs": [],
   "source": [
    "cosmo_selected.focus_point()"
   ]
  },
  {
   "cell_type": "code",
   "execution_count": 17,
   "id": "3419c431",
   "metadata": {},
   "outputs": [],
   "source": [
    "cosmo_selected.activate_rect_selection()"
   ]
  },
  {
   "cell_type": "code",
   "execution_count": 18,
   "id": "29ed5162-3b2e-4213-bcb3-c2321c77f9cc",
   "metadata": {},
   "outputs": [],
   "source": [
    "cosmo_selected.deactivate_rect_selection()"
   ]
  },
  {
   "cell_type": "code",
   "execution_count": null,
   "id": "73e63db0-9db7-4356-b7b5-51887f96da00",
   "metadata": {},
   "outputs": [],
   "source": []
  },
  {
   "cell_type": "code",
   "execution_count": null,
   "id": "ebe9e9fb",
   "metadata": {},
   "outputs": [],
   "source": []
  },
  {
   "cell_type": "code",
   "execution_count": null,
   "id": "e52e1515",
   "metadata": {},
   "outputs": [],
   "source": []
  },
  {
   "cell_type": "code",
   "execution_count": null,
   "id": "4e657b9e-4e03-4252-859e-96fac68c3ba3",
   "metadata": {},
   "outputs": [],
   "source": []
  },
  {
   "cell_type": "code",
   "execution_count": null,
   "id": "a5de63d4-58c1-49e0-98ba-9a9067204703",
   "metadata": {},
   "outputs": [],
   "source": []
  }
 ],
 "metadata": {
  "kernelspec": {
   "display_name": "Python 3 (ipykernel)",
   "language": "python",
   "name": "python3"
  },
  "language_info": {
   "codemirror_mode": {
    "name": "ipython",
    "version": 3
   },
   "file_extension": ".py",
   "mimetype": "text/x-python",
   "name": "python",
   "nbconvert_exporter": "python",
   "pygments_lexer": "ipython3",
   "version": "3.12.4"
  }
 },
 "nbformat": 4,
 "nbformat_minor": 5
}
