{
 "cells": [
  {
   "cell_type": "code",
   "execution_count": 1,
   "id": "be7196a3-df0f-4473-bdaf-7c319ccecf9d",
   "metadata": {},
   "outputs": [
    {
     "name": "stdout",
     "output_type": "stream",
     "text": [
      "env: ANYWIDGET_HMR=1\n"
     ]
    }
   ],
   "source": [
    "%load_ext autoreload\n",
    "%autoreload 2\n",
    "%env ANYWIDGET_HMR=1"
   ]
  },
  {
   "cell_type": "code",
   "execution_count": 2,
   "id": "fcc1f7a4",
   "metadata": {},
   "outputs": [],
   "source": [
    "from cosmograph_widget import Cosmograph\n",
    "import pandas as pd\n",
    "import ipywidgets as widgets\n",
    "from IPython.display import display\n",
    "# dir(Cosmograph)"
   ]
  },
  {
   "cell_type": "code",
   "execution_count": 3,
   "id": "655741f7",
   "metadata": {},
   "outputs": [
    {
     "data": {
      "text/html": [
       "<div>\n",
       "<style scoped>\n",
       "    .dataframe tbody tr th:only-of-type {\n",
       "        vertical-align: middle;\n",
       "    }\n",
       "\n",
       "    .dataframe tbody tr th {\n",
       "        vertical-align: top;\n",
       "    }\n",
       "\n",
       "    .dataframe thead th {\n",
       "        text-align: right;\n",
       "    }\n",
       "</style>\n",
       "<table border=\"1\" class=\"dataframe\">\n",
       "  <thead>\n",
       "    <tr style=\"text-align: right;\">\n",
       "      <th></th>\n",
       "      <th>id</th>\n",
       "      <th>index</th>\n",
       "      <th>value</th>\n",
       "      <th>value2</th>\n",
       "      <th>date</th>\n",
       "      <th>time</th>\n",
       "      <th>color</th>\n",
       "      <th>label</th>\n",
       "    </tr>\n",
       "  </thead>\n",
       "  <tbody>\n",
       "    <tr>\n",
       "      <th>0</th>\n",
       "      <td>0</td>\n",
       "      <td>0</td>\n",
       "      <td>-5</td>\n",
       "      <td>116</td>\n",
       "      <td>2022-11-25 03:25:04.851000+00:00</td>\n",
       "      <td>1970-01-01T01:20:59.956Z</td>\n",
       "      <td>#bab0ab</td>\n",
       "      <td>offence</td>\n",
       "    </tr>\n",
       "  </tbody>\n",
       "</table>\n",
       "</div>"
      ],
      "text/plain": [
       "  id  index  value  value2                             date  \\\n",
       "0  0      0     -5     116 2022-11-25 03:25:04.851000+00:00   \n",
       "\n",
       "                       time    color    label  \n",
       "0  1970-01-01T01:20:59.956Z  #bab0ab  offence  "
      ]
     },
     "execution_count": 3,
     "metadata": {},
     "output_type": "execute_result"
    }
   ],
   "source": [
    "points = pd.read_json('https://gist.githubusercontent.com/Stukova/d2a3bb22c90680b6beaf8a52c3470296/raw/a80fb63f4f4f0135f827c23aff43183de61a153d/points.json', dtype={'id': str})\n",
    "points.head(1)"
   ]
  },
  {
   "cell_type": "code",
   "execution_count": 4,
   "id": "d00a4160-4b94-430c-a433-688ea6d7b76e",
   "metadata": {},
   "outputs": [
    {
     "data": {
      "text/html": [
       "<div>\n",
       "<style scoped>\n",
       "    .dataframe tbody tr th:only-of-type {\n",
       "        vertical-align: middle;\n",
       "    }\n",
       "\n",
       "    .dataframe tbody tr th {\n",
       "        vertical-align: top;\n",
       "    }\n",
       "\n",
       "    .dataframe thead th {\n",
       "        text-align: right;\n",
       "    }\n",
       "</style>\n",
       "<table border=\"1\" class=\"dataframe\">\n",
       "  <thead>\n",
       "    <tr style=\"text-align: right;\">\n",
       "      <th></th>\n",
       "      <th>source</th>\n",
       "      <th>sourceidx</th>\n",
       "      <th>date</th>\n",
       "      <th>time</th>\n",
       "      <th>color</th>\n",
       "      <th>target</th>\n",
       "      <th>targetidx</th>\n",
       "      <th>value</th>\n",
       "    </tr>\n",
       "  </thead>\n",
       "  <tbody>\n",
       "    <tr>\n",
       "      <th>0</th>\n",
       "      <td>0</td>\n",
       "      <td>0</td>\n",
       "      <td>2012-02-08 11:17:27.900000+00:00</td>\n",
       "      <td>1970-01-01T01:06:54.149Z</td>\n",
       "      <td>#4e79a7</td>\n",
       "      <td>1</td>\n",
       "      <td>1</td>\n",
       "      <td>1</td>\n",
       "    </tr>\n",
       "  </tbody>\n",
       "</table>\n",
       "</div>"
      ],
      "text/plain": [
       "   source sourceidx                             date  \\\n",
       "0       0         0 2012-02-08 11:17:27.900000+00:00   \n",
       "\n",
       "                       time    color  target targetidx  value  \n",
       "0  1970-01-01T01:06:54.149Z  #4e79a7       1         1      1  "
      ]
     },
     "execution_count": 4,
     "metadata": {},
     "output_type": "execute_result"
    }
   ],
   "source": [
    "links = pd.read_json('https://gist.githubusercontent.com/Stukova/d2a3bb22c90680b6beaf8a52c3470296/raw/a80fb63f4f4f0135f827c23aff43183de61a153d/links.json', dtype={'sourceidx': str, 'targetidx': str})\n",
    "links.head(1)"
   ]
  },
  {
   "cell_type": "code",
   "execution_count": 5,
   "id": "b5e3787d-2461-4363-9bd7-009e56f1b69f",
   "metadata": {},
   "outputs": [
    {
     "data": {
      "application/vnd.jupyter.widget-view+json": {
       "model_id": "b75d5c7361634e9f856a5d45cb31a096",
       "version_major": 2,
       "version_minor": 0
      },
      "text/plain": [
       "FloatSlider(value=0.25, description='gravity:', max=0.5, step=0.01)"
      ]
     },
     "metadata": {},
     "output_type": "display_data"
    },
    {
     "data": {
      "application/vnd.jupyter.widget-view+json": {
       "model_id": "783555761c9141f7ae78c4d9d481b505",
       "version_major": 2,
       "version_minor": 0
      },
      "text/plain": [
       "FloatSlider(value=1.0, description='repulsion:', max=2.0, step=0.01)"
      ]
     },
     "metadata": {},
     "output_type": "display_data"
    },
    {
     "data": {
      "application/vnd.jupyter.widget-view+json": {
       "model_id": "4ff0b0fc0a42430898007bf3e8558d4d",
       "version_major": 2,
       "version_minor": 0
      },
      "text/plain": [
       "FloatSlider(value=1.0, description='link strength:', max=2.0, step=0.01)"
      ]
     },
     "metadata": {},
     "output_type": "display_data"
    },
    {
     "data": {
      "application/vnd.jupyter.widget-view+json": {
       "model_id": "e0ca7990795c444e98e50a1a1c203cdb",
       "version_major": 2,
       "version_minor": 0
      },
      "text/plain": [
       "IntSlider(value=10, description='min link dist:', max=20, min=1, step=0)"
      ]
     },
     "metadata": {},
     "output_type": "display_data"
    },
    {
     "data": {
      "application/vnd.jupyter.widget-view+json": {
       "model_id": "f7a4e6103a9e429e8538e4b9d25e7868",
       "version_major": 2,
       "version_minor": 0
      },
      "text/plain": [
       "Button(description='Accelerate', style=ButtonStyle())"
      ]
     },
     "metadata": {},
     "output_type": "display_data"
    },
    {
     "data": {
      "application/vnd.jupyter.widget-view+json": {
       "model_id": "6c85090e3d6a4ee398b9b1966e998f7f",
       "version_major": 2,
       "version_minor": 1
      },
      "text/plain": [
       "Cosmograph(background_color=None, focused_point_ring_color=None, hovered_point_ring_color=None, link_color=Non…"
      ]
     },
     "metadata": {},
     "output_type": "display_data"
    }
   ],
   "source": [
    "cosmo = Cosmograph(points=points, links=links,\n",
    "   point_id_by='id',\n",
    "   point_include_columns=['value', 'value2', 'color'],\n",
    "   point_label_by='label',\n",
    "   link_source_by='source',\n",
    "   link_target_by='target',\n",
    "   link_include_columns=['value'],\n",
    ")\n",
    "\n",
    "gravitySlider = widgets.FloatSlider(value=0.25, min=0, max=0.5, step=0.01, description='gravity:')\n",
    "repulsionSlider = widgets.FloatSlider(value=1, min=0, max=2, step=0.01, description='repulsion:')\n",
    "linkStrengthSlider = widgets.FloatSlider(value=1, min=0, max=2, step=0.01, description='link strength:')\n",
    "minimumLinkDistance = widgets.IntSlider(value=10, min=1, max=20, step=0.01, description='min link dist:')\n",
    "\n",
    "widgets.jslink((gravitySlider, 'value'), (cosmo, 'simulation_gravity'))\n",
    "widgets.jslink((repulsionSlider, 'value'), (cosmo, 'simulation_repulsion'))\n",
    "widgets.jslink((linkStrengthSlider, 'value'), (cosmo, 'simulation_link_spring'))\n",
    "widgets.jslink((minimumLinkDistance, 'value'), (cosmo, 'simulation_link_distance'))\n",
    "\n",
    "accelerateButton = widgets.Button(description='Accelerate')\n",
    "accelerateButton.on_click(lambda x: cosmo.start(1))\n",
    "\n",
    "display(gravitySlider, repulsionSlider, linkStrengthSlider, minimumLinkDistance, accelerateButton, cosmo)"
   ]
  },
  {
   "cell_type": "markdown",
   "id": "e2f83fb6-5170-4554-91b8-3eb566b5be9f",
   "metadata": {},
   "source": [
    "#### Legends"
   ]
  },
  {
   "cell_type": "markdown",
   "id": "56aae705-eb9d-41e2-83ab-605620e92af5",
   "metadata": {},
   "source": [
    "For each property of point and link styling and sizing such as `point_size_by`, `link_width_by`, `point_color_by`, and `link_color_by`, there is a legend:"
   ]
  },
  {
   "cell_type": "code",
   "execution_count": 6,
   "id": "c4e4313b-379f-4f95-8bd8-9e80a7ff5fcc",
   "metadata": {},
   "outputs": [],
   "source": [
    "cosmo.point_size_by = 'value'\n",
    "cosmo.link_width_by = 'value'\n",
    "cosmo.point_color_by = 'value'\n",
    "cosmo.link_color_by = 'value'"
   ]
  },
  {
   "cell_type": "markdown",
   "id": "54e70e95-a236-4a21-ae3f-153f87b92f11",
   "metadata": {},
   "source": [
    "The legend can be disabled, so it does not appear on the graph:"
   ]
  },
  {
   "cell_type": "code",
   "execution_count": 7,
   "id": "2c424c59-1a2c-4162-92bb-6854c286f53c",
   "metadata": {},
   "outputs": [],
   "source": [
    "# cosmo.disable_point_size_legend = True\n",
    "cosmo.disable_link_width_legend = True\n",
    "cosmo.disable_point_color_legend = True\n",
    "cosmo.disable_link_color_legend = True"
   ]
  },
  {
   "cell_type": "markdown",
   "id": "341be792-0678-457c-9a70-b9db7c0da865",
   "metadata": {},
   "source": [
    "#### Selecting Points"
   ]
  },
  {
   "cell_type": "markdown",
   "id": "1073664b-f1ed-43d5-82e4-f813de7b9322",
   "metadata": {},
   "source": [
    "Click on the maximum value in the legend to select the largest points. This will write an array of the selected points into the `selected_point_ids` property."
   ]
  },
  {
   "cell_type": "code",
   "execution_count": 8,
   "id": "78ba1d37-e5aa-44ea-9c82-f8251b3ead81",
   "metadata": {},
   "outputs": [
    {
     "data": {
      "text/plain": [
       "74"
      ]
     },
     "execution_count": 8,
     "metadata": {},
     "output_type": "execute_result"
    }
   ],
   "source": [
    "len(cosmo.selected_point_ids)"
   ]
  },
  {
   "cell_type": "markdown",
   "id": "c7603f53-1346-4a4c-9501-7e13b165a5e9",
   "metadata": {},
   "source": [
    "### Filter points and links by selected data"
   ]
  },
  {
   "cell_type": "markdown",
   "id": "6aedada4-3a43-48f6-acc4-6781ab8773ec",
   "metadata": {},
   "source": [
    "From the current dataframe, you can create a dataframe of the selected points and render the graph with only the selected points:"
   ]
  },
  {
   "cell_type": "code",
   "execution_count": 9,
   "id": "a1bf2e6c-eb56-4ef4-84d1-f9fcec25d5ef",
   "metadata": {},
   "outputs": [
    {
     "data": {
      "text/html": [
       "<div>\n",
       "<style scoped>\n",
       "    .dataframe tbody tr th:only-of-type {\n",
       "        vertical-align: middle;\n",
       "    }\n",
       "\n",
       "    .dataframe tbody tr th {\n",
       "        vertical-align: top;\n",
       "    }\n",
       "\n",
       "    .dataframe thead th {\n",
       "        text-align: right;\n",
       "    }\n",
       "</style>\n",
       "<table border=\"1\" class=\"dataframe\">\n",
       "  <thead>\n",
       "    <tr style=\"text-align: right;\">\n",
       "      <th></th>\n",
       "      <th>id</th>\n",
       "      <th>index</th>\n",
       "      <th>value</th>\n",
       "      <th>value2</th>\n",
       "      <th>date</th>\n",
       "      <th>time</th>\n",
       "      <th>color</th>\n",
       "      <th>label</th>\n",
       "    </tr>\n",
       "  </thead>\n",
       "  <tbody>\n",
       "    <tr>\n",
       "      <th>10</th>\n",
       "      <td>10</td>\n",
       "      <td>10</td>\n",
       "      <td>50</td>\n",
       "      <td>7</td>\n",
       "      <td>2018-05-04 17:13:57.021000+00:00</td>\n",
       "      <td>1970-01-01T02:45:56.825Z</td>\n",
       "      <td>#9c755f</td>\n",
       "      <td>congressman</td>\n",
       "    </tr>\n",
       "  </tbody>\n",
       "</table>\n",
       "</div>"
      ],
      "text/plain": [
       "    id  index  value  value2                             date  \\\n",
       "10  10     10     50       7 2018-05-04 17:13:57.021000+00:00   \n",
       "\n",
       "                        time    color        label  \n",
       "10  1970-01-01T02:45:56.825Z  #9c755f  congressman  "
      ]
     },
     "execution_count": 9,
     "metadata": {},
     "output_type": "execute_result"
    }
   ],
   "source": [
    "selected_points = points.loc[points['id'].isin(cosmo.selected_point_ids)]\n",
    "selected_points.head(1)"
   ]
  },
  {
   "cell_type": "code",
   "execution_count": 10,
   "id": "e7d135c0-b260-4756-a7b7-c0131e0ca337",
   "metadata": {},
   "outputs": [
    {
     "data": {
      "text/html": [
       "<div>\n",
       "<style scoped>\n",
       "    .dataframe tbody tr th:only-of-type {\n",
       "        vertical-align: middle;\n",
       "    }\n",
       "\n",
       "    .dataframe tbody tr th {\n",
       "        vertical-align: top;\n",
       "    }\n",
       "\n",
       "    .dataframe thead th {\n",
       "        text-align: right;\n",
       "    }\n",
       "</style>\n",
       "<table border=\"1\" class=\"dataframe\">\n",
       "  <thead>\n",
       "    <tr style=\"text-align: right;\">\n",
       "      <th></th>\n",
       "      <th>source</th>\n",
       "      <th>sourceidx</th>\n",
       "      <th>date</th>\n",
       "      <th>time</th>\n",
       "      <th>color</th>\n",
       "      <th>target</th>\n",
       "      <th>targetidx</th>\n",
       "      <th>value</th>\n",
       "    </tr>\n",
       "  </thead>\n",
       "  <tbody>\n",
       "    <tr>\n",
       "      <th>10159</th>\n",
       "      <td>5107</td>\n",
       "      <td>5107</td>\n",
       "      <td>2012-02-21 11:07:28.486000+00:00</td>\n",
       "      <td>1970-01-01T00:58:44.768Z</td>\n",
       "      <td>#76b7b2</td>\n",
       "      <td>5108</td>\n",
       "      <td>5108</td>\n",
       "      <td>3</td>\n",
       "    </tr>\n",
       "  </tbody>\n",
       "</table>\n",
       "</div>"
      ],
      "text/plain": [
       "       source sourceidx                             date  \\\n",
       "10159    5107      5107 2012-02-21 11:07:28.486000+00:00   \n",
       "\n",
       "                           time    color  target targetidx  value  \n",
       "10159  1970-01-01T00:58:44.768Z  #76b7b2    5108      5108      3  "
      ]
     },
     "execution_count": 10,
     "metadata": {},
     "output_type": "execute_result"
    }
   ],
   "source": [
    "selected_links = links.loc[links.sourceidx.isin(cosmo.selected_point_ids) & links.targetidx.isin(cosmo.selected_point_ids)].copy()\n",
    "selected_links.head(1)"
   ]
  },
  {
   "cell_type": "code",
   "execution_count": 11,
   "id": "1a337d67-e4fe-4180-9717-cb7bf8762144",
   "metadata": {},
   "outputs": [
    {
     "data": {
      "application/vnd.jupyter.widget-view+json": {
       "model_id": "82e0dcf8224840d0a3f36daf413367ff",
       "version_major": 2,
       "version_minor": 1
      },
      "text/plain": [
       "Cosmograph(background_color=None, focused_point_ring_color=None, hovered_point_ring_color=None, link_color=Non…"
      ]
     },
     "execution_count": 11,
     "metadata": {},
     "output_type": "execute_result"
    }
   ],
   "source": [
    "cosmo_selected = Cosmograph(points=selected_points, links=selected_links,\n",
    "   point_id_by='id',\n",
    "   point_color_by='color',\n",
    "\n",
    "   link_source_by='source',\n",
    "   link_target_by='target',\n",
    "   link_color_by='color'\n",
    ")\n",
    "cosmo_selected"
   ]
  },
  {
   "cell_type": "code",
   "execution_count": 12,
   "id": "99a205c1-d810-47f6-8372-ef193e725f0e",
   "metadata": {},
   "outputs": [],
   "source": [
    "cosmo_selected.fit_view()"
   ]
  },
  {
   "cell_type": "code",
   "execution_count": 13,
   "id": "f8e0a475-11fc-488d-93ed-b269de5ebbeb",
   "metadata": {},
   "outputs": [],
   "source": [
    "cosmo_selected.select_points_by_ids(selected_points.query(\"color == '#af7aa1'\").id.tolist())"
   ]
  },
  {
   "cell_type": "code",
   "execution_count": 14,
   "id": "e0c155fb",
   "metadata": {},
   "outputs": [
    {
     "data": {
      "text/plain": [
       "['242', '249', '2714', '3222', '4696', '4763', '5407', '6680', '7260']"
      ]
     },
     "execution_count": 14,
     "metadata": {},
     "output_type": "execute_result"
    }
   ],
   "source": [
    "cosmo_selected.selected_point_ids"
   ]
  },
  {
   "cell_type": "code",
   "execution_count": 15,
   "id": "c7d4f4ca-951d-49f1-892d-2728628b42f7",
   "metadata": {},
   "outputs": [],
   "source": [
    "cosmo_selected.fit_view_by_ids(cosmo_selected.selected_point_ids, 2000)"
   ]
  },
  {
   "cell_type": "code",
   "execution_count": 16,
   "id": "8d70a986-1156-4e1a-8bce-d5e9af8949c1",
   "metadata": {},
   "outputs": [],
   "source": [
    "cosmo_selected.focus_point('242')"
   ]
  },
  {
   "cell_type": "code",
   "execution_count": 17,
   "id": "8eb11edf-c5c7-45c8-a475-1857e28bdadd",
   "metadata": {},
   "outputs": [],
   "source": [
    "cosmo_selected.focus_point()"
   ]
  },
  {
   "cell_type": "code",
   "execution_count": null,
   "id": "3419c431",
   "metadata": {},
   "outputs": [],
   "source": [
    "cosmo_selected.activate_rect_selection()"
   ]
  },
  {
   "cell_type": "code",
   "execution_count": null,
   "id": "29ed5162-3b2e-4213-bcb3-c2321c77f9cc",
   "metadata": {},
   "outputs": [],
   "source": [
    "cosmo_selected.deactivate_rect_selection()"
   ]
  },
  {
   "cell_type": "code",
   "execution_count": null,
   "id": "73e63db0-9db7-4356-b7b5-51887f96da00",
   "metadata": {},
   "outputs": [],
   "source": []
  },
  {
   "cell_type": "code",
   "execution_count": null,
   "id": "ebe9e9fb",
   "metadata": {},
   "outputs": [],
   "source": []
  },
  {
   "cell_type": "code",
   "execution_count": null,
   "id": "e52e1515",
   "metadata": {},
   "outputs": [],
   "source": []
  },
  {
   "cell_type": "code",
   "execution_count": null,
   "id": "4e657b9e-4e03-4252-859e-96fac68c3ba3",
   "metadata": {},
   "outputs": [],
   "source": []
  },
  {
   "cell_type": "code",
   "execution_count": null,
   "id": "a5de63d4-58c1-49e0-98ba-9a9067204703",
   "metadata": {},
   "outputs": [],
   "source": []
  }
 ],
 "metadata": {
  "kernelspec": {
   "display_name": "Python 3 (ipykernel)",
   "language": "python",
   "name": "python3"
  },
  "language_info": {
   "codemirror_mode": {
    "name": "ipython",
    "version": 3
   },
   "file_extension": ".py",
   "mimetype": "text/x-python",
   "name": "python",
   "nbconvert_exporter": "python",
   "pygments_lexer": "ipython3",
   "version": "3.9.6"
  }
 },
 "nbformat": 4,
 "nbformat_minor": 5
}
