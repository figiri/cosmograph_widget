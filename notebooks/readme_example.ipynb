{
 "cells": [
  {
   "cell_type": "code",
   "execution_count": 4,
   "id": "2a46ad3c-a0b9-4622-9e02-d706988d6845",
   "metadata": {},
   "outputs": [
    {
     "data": {
      "application/vnd.jupyter.widget-view+json": {
       "model_id": "02b926cd92734035af8c2297dd7d0204",
       "version_major": 2,
       "version_minor": 1
      },
      "text/plain": [
       "Cosmograph(background_color=None, focused_point_ring_color=None, hovered_point_ring_color=None, link_color=Non…"
      ]
     },
     "execution_count": 4,
     "metadata": {},
     "output_type": "execute_result"
    }
   ],
   "source": [
    "from cosmograph_widget import Cosmograph\n",
    "import pandas as pd\n",
    "\n",
    "# Define the points of the graph\n",
    "points = pd.DataFrame([\n",
    "  { 'id': '1', 'color': '#88C6FF' },\n",
    "  { 'id': '2', 'color': '#FF99D2' },\n",
    "  { 'id': '3', 'color': '#E3116C' },\n",
    "])\n",
    "\n",
    "# Define the links of the graph\n",
    "links = pd.DataFrame([\n",
    "  { 'source': '1', 'target': '2' },\n",
    "  { 'source': '1', 'target': '3' },\n",
    "  { 'source': '2', 'target': '3' },\n",
    "])\n",
    "\n",
    "# Initialize and display the Cosmograph widget\n",
    "Cosmograph(points=points, links=links,\n",
    "   point_id_by='id',\n",
    "   point_color_by='color',\n",
    "   link_source_by='source',\n",
    "   link_target_by='target',\n",
    ")"
   ]
  },
  {
   "cell_type": "code",
   "execution_count": null,
   "id": "d95d8d75-091e-4d79-aeaa-0c365fd948bf",
   "metadata": {},
   "outputs": [],
   "source": []
  }
 ],
 "metadata": {
  "kernelspec": {
   "display_name": "Python 3 (ipykernel)",
   "language": "python",
   "name": "python3"
  },
  "language_info": {
   "codemirror_mode": {
    "name": "ipython",
    "version": 3
   },
   "file_extension": ".py",
   "mimetype": "text/x-python",
   "name": "python",
   "nbconvert_exporter": "python",
   "pygments_lexer": "ipython3",
   "version": "3.9.6"
  }
 },
 "nbformat": 4,
 "nbformat_minor": 5
}
