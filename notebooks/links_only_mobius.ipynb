{
 "cells": [
  {
   "cell_type": "code",
   "execution_count": 1,
   "id": "2058f7b3-33e7-468b-9795-99da27e45157",
   "metadata": {},
   "outputs": [],
   "source": [
    "from cosmograph_widget import Cosmograph\n",
    "import pandas as pd"
   ]
  },
  {
   "cell_type": "code",
   "execution_count": 2,
   "id": "d80a9c91-fb16-4a9d-86ed-844aa03d5d3e",
   "metadata": {},
   "outputs": [
    {
     "data": {
      "text/html": [
       "<div>\n",
       "<style scoped>\n",
       "    .dataframe tbody tr th:only-of-type {\n",
       "        vertical-align: middle;\n",
       "    }\n",
       "\n",
       "    .dataframe tbody tr th {\n",
       "        vertical-align: top;\n",
       "    }\n",
       "\n",
       "    .dataframe thead th {\n",
       "        text-align: right;\n",
       "    }\n",
       "</style>\n",
       "<table border=\"1\" class=\"dataframe\">\n",
       "  <thead>\n",
       "    <tr style=\"text-align: right;\">\n",
       "      <th></th>\n",
       "      <th>source</th>\n",
       "      <th>target</th>\n",
       "    </tr>\n",
       "  </thead>\n",
       "  <tbody>\n",
       "    <tr>\n",
       "      <th>0</th>\n",
       "      <td>0</td>\n",
       "      <td>1</td>\n",
       "    </tr>\n",
       "    <tr>\n",
       "      <th>1</th>\n",
       "      <td>0</td>\n",
       "      <td>15</td>\n",
       "    </tr>\n",
       "  </tbody>\n",
       "</table>\n",
       "</div>"
      ],
      "text/plain": [
       "   source  target\n",
       "0       0       1\n",
       "1       0      15"
      ]
     },
     "execution_count": 2,
     "metadata": {},
     "output_type": "execute_result"
    }
   ],
   "source": [
    "mobius_length = 45\n",
    "mobius_width = 15\n",
    "\n",
    "# Create an empty DataFrame to store the graph representation\n",
    "mobius = pd.DataFrame(columns=['source', 'target'])\n",
    "\n",
    "for j in range(mobius_length):\n",
    "    for i in range(mobius_width):\n",
    "        index = i + j * mobius_width\n",
    "        \n",
    "        index1 = index + 1\n",
    "        index2 = i + (j + 1) * mobius_width\n",
    "        \n",
    "        if index1 < (j + 1) * mobius_width:\n",
    "            mobius.loc[len(mobius)] = [index, index1] # Add edge between adjacent cells in the same row\n",
    "        \n",
    "        if index2 < mobius_length * mobius_width:\n",
    "            mobius.loc[len(mobius)] = [index, index2] # Add edge between adjacent cells in different rows\n",
    "        else:\n",
    "            index3 = mobius_width - i - 1 # Mirroring the last row to the first row to complete the Möbius strip\n",
    "            mobius.loc[len(mobius)] = [index, index3] # Add edge between mirrored cells in different rows\n",
    "            \n",
    "mobius.head(2)"
   ]
  },
  {
   "cell_type": "code",
   "execution_count": 3,
   "id": "29d9b1c2-9556-4532-a280-960119b0b153",
   "metadata": {},
   "outputs": [
    {
     "data": {
      "application/vnd.jupyter.widget-view+json": {
       "model_id": "61bfd8364e944bd787861e911de7bc85",
       "version_major": 2,
       "version_minor": 1
      },
      "text/plain": [
       "Cosmograph(background_color=None, default_link_color=None, default_point_color=None, focused_point_ring_color=…"
      ]
     },
     "execution_count": 3,
     "metadata": {},
     "output_type": "execute_result"
    }
   ],
   "source": [
    "cosmo = Cosmograph(links=mobius,\n",
    "   link_source='source',\n",
    "   link_source_index='source',\n",
    "   link_target='target',\n",
    "   link_target_index='target',\n",
    "   simulation_decay=10000,\n",
    "   simulation_link_distance=1,\n",
    "   simulation_link_spring=2,\n",
    "   simulation_repulsion=1,\n",
    "   simulation_gravity=0.05\n",
    ")\n",
    "cosmo"
   ]
  },
  {
   "cell_type": "code",
   "execution_count": 4,
   "id": "22550f1b-985d-4383-9e67-2d7e02eefbf0",
   "metadata": {},
   "outputs": [],
   "source": [
    "cosmo.fit_view()"
   ]
  },
  {
   "cell_type": "code",
   "execution_count": null,
   "id": "7fab5911-ad33-4764-98ce-40fd369f4c1c",
   "metadata": {},
   "outputs": [],
   "source": []
  },
  {
   "cell_type": "code",
   "execution_count": null,
   "id": "33cfa16c-2523-471e-b9bb-df4c9fb4b2d1",
   "metadata": {},
   "outputs": [],
   "source": []
  }
 ],
 "metadata": {
  "kernelspec": {
   "display_name": "Python 3 (ipykernel)",
   "language": "python",
   "name": "python3"
  },
  "language_info": {
   "codemirror_mode": {
    "name": "ipython",
    "version": 3
   },
   "file_extension": ".py",
   "mimetype": "text/x-python",
   "name": "python",
   "nbconvert_exporter": "python",
   "pygments_lexer": "ipython3",
   "version": "3.12.4"
  }
 },
 "nbformat": 4,
 "nbformat_minor": 5
}
